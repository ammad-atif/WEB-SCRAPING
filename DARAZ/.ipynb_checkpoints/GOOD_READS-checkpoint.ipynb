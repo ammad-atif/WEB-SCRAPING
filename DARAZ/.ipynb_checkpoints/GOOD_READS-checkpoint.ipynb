{
 "cells": [
  {
   "cell_type": "code",
   "execution_count": 21,
   "id": "33b7de54-b7ea-48bf-94b1-cdaebb5ddfb9",
   "metadata": {},
   "outputs": [],
   "source": [
    "from selenium import webdriver\n",
    "from selenium.webdriver.chrome.service import Service\n",
    "from webdriver_manager.chrome import ChromeDriverManager\n",
    "from selenium_stealth import stealth\n",
    "import time\n",
    "\n",
    "options = webdriver.ChromeOptions()\n",
    "options.add_argument(\"start-maximized\")\n",
    "# options.add_argument(\"--headless\")\n",
    "options.add_experimental_option(\"excludeSwitches\", [\"enable-automation\"])\n",
    "options.add_experimental_option('useAutomationExtension', False)\n",
    "\n",
    "service = Service(ChromeDriverManager().install())\n",
    "\n",
    "driver = webdriver.Chrome(options=options, service=service)\n",
    "\n",
    "stealth(driver,\n",
    "        languages=[\"en-US\", \"en\"],\n",
    "        vendor=\"Google Inc.\",\n",
    "        platform=\"Win32\",\n",
    "        webgl_vendor=\"Intel Inc.\",\n",
    "        renderer=\"Intel Iris OpenGL Engine\",\n",
    "        fix_hairline=True,\n",
    "        )\n"
   ]
  },
  {
   "cell_type": "code",
   "execution_count": 22,
   "id": "d4236369-bf64-4a45-84dd-407b9518b745",
   "metadata": {},
   "outputs": [
    {
     "name": "stdout",
     "output_type": "stream",
     "text": [
      "https://www.goodreads.com/\n",
      "Goodreads | Meet your next favorite book\n"
     ]
    }
   ],
   "source": [
    "daraz=driver.get(\"https://www.goodreads.com/\")  # open website\n",
    "print(driver.current_url)\n",
    "print(driver.title)"
   ]
  },
  {
   "cell_type": "code",
   "execution_count": 23,
   "id": "cfb35c87-fcdb-4556-9c0c-afe7b950ac28",
   "metadata": {},
   "outputs": [
    {
     "name": "stdout",
     "output_type": "stream",
     "text": [
      "30\n",
      "30\n"
     ]
    }
   ],
   "source": [
    "from selenium.webdriver.common.by import By\n",
    "\n",
    "categories_tag=driver.find_element(By.XPATH,\"/html/body/div[2]/div[2]/div[1]/div[1]/div[2]/div[4]/div[2]\")\n",
    "\n",
    "categories_tags=categories_tag.find_elements(By.TAG_NAME,\"a\")\n",
    "print(len(categories_tags))\n",
    "\n",
    "category_links=[]\n",
    "for a_tag in categories_tags:\n",
    "    category_links.append(a_tag.get_attribute(\"href\"))\n",
    "\n",
    "print(len(category_links))"
   ]
  },
  {
   "cell_type": "code",
   "execution_count": 26,
   "id": "cedc2bbb-e71f-4540-9ad2-a39d2d936e48",
   "metadata": {},
   "outputs": [],
   "source": [
    "#if login page shows cancel the login process\n",
    "\n",
    "from selenium.webdriver.support.ui import WebDriverWait\n",
    "from selenium.webdriver.support import expected_conditions as EC\n",
    "from selenium.webdriver.common.by import By\n",
    "from selenium.common.exceptions import TimeoutException\n",
    "\n",
    "def cancel_login():\n",
    "\n",
    "    try:\n",
    "         login_tag =  WebDriverWait(driver, 10).until(\n",
    "                EC.presence_of_element_located((By.CLASS_NAME,\"modal__content\"))\n",
    "            )\n",
    "    except:\n",
    "        button=login_tag.find_element(By.TAG_NAME,\"button\")\n",
    "        button.click()"
   ]
  },
  {
   "cell_type": "code",
   "execution_count": 40,
   "id": "bbf9def1-3cd6-4d4b-8324-01da615c976d",
   "metadata": {},
   "outputs": [
    {
     "name": "stdout",
     "output_type": "stream",
     "text": [
      "['Black Flame', 'Gretchen Felker-Martin', '3.78', 'First published August 5, 2025', '241 reviews']\n",
      "['Flashout', 'Alexis Soloski', '3.59', 'First published August 5, 2025', '40 reviews']\n",
      "['The Art of Vanishing', 'Morgan Pager', '3.23', 'First published July 1, 2025', '405 reviews']\n",
      "['Bring the House Down', 'Charlotte Runcie', '3.60', 'First published July 8, 2025', '558 reviews']\n",
      "['If You Love It, Let It Kill You', 'Hannah Pittard', '3.49', 'First published July 15, 2025', '190 reviews']\n",
      "['Oh No, Ojó!', 'Alaba Onajin', '3.57', 'First published July 15, 2025', '6 reviews']\n",
      "['An Inside Job', 'Daniel Silva', '4.51', 'First published July 15, 2025', '759 reviews']\n",
      "['Horse', 'Geraldine Brooks', '4.25', 'First published June 14, 2022', '18,345 reviews']\n",
      "['Cat Kid Comic Club', 'Dav Pilkey', '3.97', 'First published December 1, 2020', '622 reviews']\n",
      "['The Stolen Queen', 'Fiona Davis', '3.93', 'First published January 7, 2025', '5,006 reviews']\n",
      "['Blessings and Disasters: A Story of Alabama', 'Alexis Okeowo', '3.88', 'First published August 5, 2025', '43 reviews']\n",
      "['Hotshot: A Life on Fire', 'River Selby', '3.81', 'First published August 12, 2025', '67 reviews']\n",
      "['The Undiscovered Country: Triumph, Tragedy, and the Shaping of the American West', 'Paul Andrew Hutton', '4.37', 'First published August 5, 2025', '19 reviews']\n",
      "['We Should All Be Birds: A Memoir', 'Brian Buckbee', '3.67', 'First published August 1, 2025', '41 reviews']\n",
      "['Coming Up Short: A Memoir of My America', 'Robert B. Reich', '4.56', 'First published August 5, 2025', '67 reviews']\n",
      "['Master of Rome: A Life of Julius Caesar', 'David Stone Potter', '4.33', 'First published August 6, 2025', '2 reviews']\n",
      "['Clodia of Rome: Champion of the Republic', 'Douglas Boin', '3.93', 'First published August 12, 2025', '8 reviews']\n",
      "['The Martians: The True Story of an Alien Craze that Captured Turn-of-the-Century America', 'David Baron', '4.01', 'First published August 26, 2025', '28 reviews']\n",
      "['Life Is Fighting', 'Kevin Robert Kesar', '4.26', 'First published August 5, 2025', '26 reviews']\n",
      "['Knocking on Windows: A Memoir', 'Jeannine Atkins', '4.30', 'First published August 5, 2025', '22 reviews']\n",
      "['The Let Them Theory', 'Mel Robbins', '4.09', 'First published December 24, 2024', '17,899 reviews']\n",
      "['The Creative Act: A Way of Being', 'Rick Rubin', '3.97', 'N/A', '7,266 reviews']\n",
      "['Abundance', 'Ezra Klein', '4.02', 'First published March 18, 2025', '3,485 reviews']\n",
      "[\"Think Again: The Power of Knowing What You Don't Know\", 'Adam M. Grant', '4.13', 'N/A', '8,998 reviews']\n",
      "['Revenge of the Tipping Point: Overstories, Superspreaders, and the Rise of Social Engineering', 'Malcolm Gladwell', '4.03', 'N/A', '4,211 reviews']\n",
      "['Four Thousand Weeks: Time Management for Mortals', 'Oliver Burkeman', '4.18', 'First published August 10, 2021', '11,870 reviews']\n",
      "['The Almanack of Naval Ravikant: A Guide to Wealth and Happiness', 'Eric Jorgenson', '4.39', 'First published August 15, 2020', '5,262 reviews']\n",
      "['N/A', 'Arnold Schwarzenegger', '4.06', 'First published October 10, 2023', '3,087 reviews']\n",
      "[\"Stolen Focus: Why You Can't Pay Attention— and How to Think Deeply Again\", 'Johann Hari', '4.22', 'N/A', '8,588 reviews']\n",
      "['No More Tears: The Dark Secrets of Johnson & Johnson', 'Gardiner Harris', '4.18', 'First published April 8, 2025', '1,297 reviews']\n"
     ]
    }
   ],
   "source": [
    "#for only 3 categories\n",
    "first_two_categories=category_links[0:3]\n",
    "\n",
    "\n",
    "\n",
    "def collect_books_links():\n",
    "    books_links=[]\n",
    "    try:\n",
    "        books_links_tag=WebDriverWait(driver, 10).until(\n",
    "                    EC.presence_of_element_located((By.XPATH, '//*[@id=\"bodycontainer\"]/div[3]/div[1]/div[2]/div[2]/div[4]/div[2]'))\n",
    "                )\n",
    "        books_links_tag=WebDriverWait(driver, 10).until(\n",
    "                    EC.presence_of_all_elements_located((By.CLASS_NAME, \"coverWrapper\"))\n",
    "                )\n",
    "        \n",
    "        for tag in books_links_tag:\n",
    "                books_links.append(tag.find_element(By.TAG_NAME,\"a\").get_attribute(\"href\"))\n",
    "\n",
    "        #print(len(books_links))\n",
    "        return books_links\n",
    "    \n",
    "    except:\n",
    "        #print(\"Books links not collected\")\n",
    "        return []\n",
    "\n",
    "    \n",
    "\n",
    "    \n",
    "details=[]\n",
    "\n",
    "\n",
    "        \n",
    "for link in first_two_categories:\n",
    "    driver.get(link)\n",
    "    \n",
    "    #time.sleep(1)\n",
    "\n",
    "    cancel_login()\n",
    "\n",
    "\n",
    "    book_links=collect_books_links()\n",
    "\n",
    "    #for 10 books only\n",
    "    book_links=book_links[0:10]\n",
    "\n",
    "    \n",
    "    #print(len(book_links))\n",
    "\n",
    "    \n",
    "    \n",
    "    for book_link in book_links:\n",
    "        def safe_find(by, value):\n",
    "            try:\n",
    "                return driver.find_element(by, value).text\n",
    "            except:\n",
    "                return \"N/A\"\n",
    "                \n",
    "        driver.get(book_link)\n",
    "\n",
    "        title=safe_find(By.CLASS_NAME,\"Text__title1\")\n",
    "        publisher_name=safe_find(By.CLASS_NAME,\"ContributorLink__name\")\n",
    "        rating=safe_find(By.CLASS_NAME,\"RatingStatistics__rating\")\n",
    "        publication_date=safe_find(By.XPATH,'/html/body/div[1]/div[2]/main/div[1]/div[2]/div[2]/div[2]/div[6]/div/span[1]/span/div/p[2]')\n",
    "        no_of_reviews=safe_find(By.XPATH,'/html/body/div[1]/div[2]/main/div[1]/div[2]/div[2]/div[2]/div[2]/a/div[2]/div/span[2]')\n",
    "\n",
    "        print([title,publisher_name,rating,publication_date,no_of_reviews])\n",
    "        \n",
    "        details.append([title,publisher_name,rating,publication_date,no_of_reviews])\n",
    "        \n",
    "        #book_meta_data=driver.find_element(By.CLASS_NAME,\"BookPageMetadataSection\")\n",
    "\n",
    "        \n",
    "        \n",
    "        "
   ]
  },
  {
   "cell_type": "code",
   "execution_count": 41,
   "id": "4a671732-9925-4d38-92e2-ba3f61669751",
   "metadata": {},
   "outputs": [],
   "source": [
    "import pandas as pd\n",
    "\n",
    "df=pd.DataFrame(details,columns=[ \"title\",\n",
    "        \"publisher_name\",\n",
    "        \"rating\",\n",
    "        \"publication_date\",\n",
    "        \"no_of_reviews\"])\n",
    "\n",
    "df.to_csv(\"goodreads.csv\",index=False)"
   ]
  }
 ],
 "metadata": {
  "kernelspec": {
   "display_name": "Python 3 (ipykernel)",
   "language": "python",
   "name": "python3"
  },
  "language_info": {
   "codemirror_mode": {
    "name": "ipython",
    "version": 3
   },
   "file_extension": ".py",
   "mimetype": "text/x-python",
   "name": "python",
   "nbconvert_exporter": "python",
   "pygments_lexer": "ipython3",
   "version": "3.13.7"
  }
 },
 "nbformat": 4,
 "nbformat_minor": 5
}
