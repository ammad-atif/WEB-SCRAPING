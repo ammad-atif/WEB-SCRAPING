{
 "cells": [
  {
   "cell_type": "code",
   "execution_count": 11,
   "id": "e0268979-12b5-415f-8a36-608642b6bc0f",
   "metadata": {},
   "outputs": [],
   "source": [
    "from selenium import webdriver\n",
    "from selenium.webdriver.chrome.service import Service\n",
    "from webdriver_manager.chrome import ChromeDriverManager\n",
    "from selenium_stealth import stealth\n",
    "import time\n",
    "\n",
    "options = webdriver.ChromeOptions()\n",
    "options.add_argument(\"start-maximized\")\n",
    "# options.add_argument(\"--headless\")\n",
    "options.add_experimental_option(\"excludeSwitches\", [\"enable-automation\"])\n",
    "options.add_experimental_option('useAutomationExtension', False)\n",
    "\n",
    "service = Service(ChromeDriverManager().install())\n",
    "\n",
    "driver = webdriver.Chrome(options=options, service=service)\n",
    "\n",
    "stealth(driver,\n",
    "        languages=[\"en-US\", \"en\"],\n",
    "        vendor=\"Google Inc.\",\n",
    "        platform=\"Win32\",\n",
    "        webgl_vendor=\"Intel Inc.\",\n",
    "        renderer=\"Intel Iris OpenGL Engine\",\n",
    "        fix_hairline=True,\n",
    "        )\n"
   ]
  },
  {
   "cell_type": "code",
   "execution_count": 12,
   "id": "c72a5e1b-248a-44da-87b9-7b4ed1879fca",
   "metadata": {},
   "outputs": [
    {
     "name": "stdout",
     "output_type": "stream",
     "text": [
      "https://www.daraz.pk/#?\n",
      "Online Shopping in Pakistan: Fashion, Electronics & Groceries - Daraz.pk\n"
     ]
    }
   ],
   "source": [
    "daraz=driver.get(\"https://www.daraz.pk/#?\")  # open website\n",
    "print(driver.current_url)\n",
    "print(driver.title)"
   ]
  },
  {
   "cell_type": "code",
   "execution_count": 13,
   "id": "6b0658fc-9069-49f6-9ce4-f57d3d9576fd",
   "metadata": {},
   "outputs": [],
   "source": [
    "\n",
    "from selenium.webdriver.common.by import By\n",
    "\n",
    "#getting seacrh bar\n",
    "search = driver.find_element(By.NAME, \"q\")\n",
    "#searching for iphone 15\n",
    "search.send_keys(\"iphone 15\")\n",
    "search.submit()\n",
    "#search.clear()\n"
   ]
  },
  {
   "cell_type": "code",
   "execution_count": 14,
   "id": "108c6950-a399-4d84-9d1e-f039cae12801",
   "metadata": {},
   "outputs": [
    {
     "name": "stdout",
     "output_type": "stream",
     "text": [
      "1\n",
      "2\n",
      "3\n",
      "4\n",
      "5\n",
      "6\n",
      "7\n",
      "8\n",
      "9\n"
     ]
    }
   ],
   "source": [
    "from selenium.webdriver.common.by import By\n",
    "from selenium.webdriver.support.ui import WebDriverWait\n",
    "from selenium.webdriver.support import expected_conditions as EC\n",
    "import time\n",
    "i = 0\n",
    "links=[]\n",
    "while True:\n",
    "    try:\n",
    "             # Wait for pagination\n",
    "        navigation = WebDriverWait(driver, 10).until(\n",
    "            EC.presence_of_element_located((By.CSS_SELECTOR, \"ul.ant-pagination\"))\n",
    "        )\n",
    "\n",
    "            #printing page no\n",
    "        page_no=navigation.find_element(By.CLASS_NAME,\"ant-pagination-item-active\")\n",
    "            # for not getting banned\n",
    "        if int(page_no.text)==10:\n",
    "            break\n",
    "        print(page_no.text)\n",
    "        \n",
    "            # Wait for products\n",
    "        products_cards = WebDriverWait(driver, 10).until(\n",
    "            EC.presence_of_all_elements_located((By.CSS_SELECTOR, \"div.Bm3ON\"))\n",
    "        )\n",
    "            #Extracting a link for each product, from all products of a given page\n",
    "        for products_card in products_cards:\n",
    "            link=products_card.find_element(By.TAG_NAME,\"a\").get_attribute(\"href\")\n",
    "            links.append(link)\n",
    "        \n",
    "        \n",
    "        # Grab the Next button (adjust selector if it's <a> instead of <button>)\n",
    "        next_page = navigation.find_element(By.CSS_SELECTOR, \"li.ant-pagination-next button\")\n",
    "\n",
    "        # Check if it's disabled\n",
    "        if next_page.get_attribute(\"disabled\") is not None:\n",
    "            print(\"Reached last page → Next is disabled.\")\n",
    "            break\n",
    "\n",
    "        # Click next\n",
    "        next_page.click()\n",
    "        \n",
    "        # make you scrapper slow\n",
    "        time.sleep(3)\n",
    "    except Exception as e:\n",
    "        print(\"Next button not found → stopping.\", e)\n",
    "        break\n"
   ]
  },
  {
   "cell_type": "code",
   "execution_count": 15,
   "id": "3d8740c8-dea7-40f3-96a9-eadc3ae31488",
   "metadata": {},
   "outputs": [
    {
     "name": "stdout",
     "output_type": "stream",
     "text": [
      "360\n"
     ]
    }
   ],
   "source": [
    "print(len(links))\n",
    "\n",
    "#for 20 listings\n",
    "links=links[0:20]"
   ]
  },
  {
   "cell_type": "code",
   "execution_count": 18,
   "id": "4c6d5919-fb0e-4753-a06e-0e58e21e2ed8",
   "metadata": {},
   "outputs": [],
   "source": [
    "from bs4 import BeautifulSoup\n",
    "details=[]\n",
    "\n",
    "\n",
    "        \n",
    "for link in links:\n",
    "    driver.get(link)\n",
    "    \n",
    "    time.sleep(1)\n",
    "    \n",
    "    product_details=WebDriverWait(driver, 10).until(\n",
    "            EC.presence_of_element_located((By.CSS_SELECTOR, \"div#container\"))\n",
    "        )\n",
    "\n",
    "    def safe_find(by, value):\n",
    "        try:\n",
    "            return product_details.find_element(by, value).text\n",
    "        except:\n",
    "            return \"N/A\"\n",
    "    \n",
    "    title=safe_find(By.XPATH, '/html/body/div[5]/div/div[3]/div[2]/div/div[1]/div[4]/div/div/h1')\n",
    "    price=safe_find(By.XPATH, '/html/body/div[5]/div/div[3]/div[2]/div/div[1]/div[10]/div/div/span')\n",
    "    seller_name=safe_find(By.XPATH, '/html/body/div[5]/div/div[3]/div[2]/div/div[2]/div[7]/div/div[1]/div[1]/div[2]/a')\n",
    "    cash_on_delivery=safe_find(By.XPATH, '//*[@id=\"module_seller_delivery\"]/div/div/div[3]/div/div[2]/div/div/div[1]/div')\n",
    "    rating=safe_find(By.CLASS_NAME, 'score-average')\n",
    "\n",
    "    #ratings=WebDriverWait(driver, 10).until(\n",
    "          #  EC.presence_of_element_located((By.XPATH, '/html/body/div[5]/div/div[10]/div[1]/div[2]/div/div/div/div[1]/div[2]/div'))\n",
    "       # )\n",
    "    #avg_rating=ratings.find_element(By.XPATH, '//div/div[1]/div[1]/span[1]')\n",
    "    #total_ratings=product_details.find_element(By.XPATH, '//*[@id=\"module_product_review\"]/div/div/div[1]/div[2]/div/div/div[1]/div[3]')\n",
    "    \n",
    "    #print(title)\n",
    "    #print(price)\n",
    "    #print(seller_name)\n",
    "    #print(cash_on_delivery)\n",
    "    #print(avg_rating.text)\n",
    "    #print(total_ratings.text)\n",
    "\n",
    "    details.append([title,price,seller_name,cash_on_delivery,rating])\n",
    "    \n",
    "\n",
    "\n",
    "    "
   ]
  },
  {
   "cell_type": "code",
   "execution_count": 19,
   "id": "cf5638fe-d3d5-4cdf-8ac2-0487cd8cdd18",
   "metadata": {},
   "outputs": [
    {
     "name": "stdout",
     "output_type": "stream",
     "text": [
      "20\n"
     ]
    }
   ],
   "source": [
    "print(len(details))"
   ]
  },
  {
   "cell_type": "code",
   "execution_count": 22,
   "id": "ac433471-3d71-4049-ac0b-e948964c2a75",
   "metadata": {},
   "outputs": [
    {
     "name": "stdout",
     "output_type": "stream",
     "text": [
      "                                               title        price  \\\n",
      "0          Poco C75 Non Scanned - Non Active- 256 GB   Rs. 30,099   \n",
      "1  Daraz Like New phones - Apple iPhone X 64GB - ...   Rs. 36,999   \n",
      "2  Apple iPhone 15 Pro 128GB - Non Approved - Fac...  Rs. 199,999   \n",
      "3  Apple iPhone 15 Pro Max - 6.7\" Inch Display - ...  Rs. 467,842   \n",
      "4  Apple iPhone 14 - 128GB - NON PTA - Good Condi...  Rs. 109,749   \n",
      "\n",
      "            seller_name            cash_on_delivery rating  \n",
      "0                 Daraz                         N/A    N/A  \n",
      "1  Smart Tech (Karachi)  Cash on Delivery Available    N/A  \n",
      "2           A&F Tablets  Cash on Delivery Available    N/A  \n",
      "3   Shop-Tech (Karachi)  Cash on Delivery Available    N/A  \n",
      "4           A&F Tablets  Cash on Delivery Available    N/A  \n"
     ]
    }
   ],
   "source": [
    "import pandas as pd\n",
    "\n",
    "df=pd.DataFrame(details,columns=[\"title\",\"price\",\"seller_name\",\"cash_on_delivery\",\"rating\"])\n",
    "\n",
    "df.to_csv(\"daraz_iphone-15.csv\",index=False)\n",
    "\n",
    "print(df.head())"
   ]
  },
  {
   "cell_type": "code",
   "execution_count": 28,
   "id": "817bd3d0-1283-42fd-8497-45dcab1c0b6c",
   "metadata": {},
   "outputs": [
    {
     "name": "stdout",
     "output_type": "stream",
     "text": [
      "Top 5 Best Deals (Lowest Prices):\n",
      "                                                title           seller_name  \\\n",
      "15  American Stock - Iphone 6 - SIm not works - Go...               SEL WEL   \n",
      "19  Apple Iphone 7 - 4.7 Inch Display - Non Pta - ...              VELVESTA   \n",
      "5   Daraz Like New - Apple Iphone 7 - 32GB - Facto...           A&F Tablets   \n",
      "0           Poco C75 Non Scanned - Non Active- 256 GB                 Daraz   \n",
      "1   Daraz Like New phones - Apple iPhone X 64GB - ...  Smart Tech (Karachi)   \n",
      "\n",
      "    price_clean  \n",
      "15         9492  \n",
      "19        12674  \n",
      "5         15499  \n",
      "0         30099  \n",
      "1         36999  \n"
     ]
    }
   ],
   "source": [
    "import pandas as pd\n",
    "\n",
    "\n",
    "df = pd.read_csv(\"daraz_iphone-15.csv\")\n",
    "\n",
    "# Clean price column\n",
    "df['price_clean'] = (\n",
    "    df['price']\n",
    "    .str.replace(\"Rs.\", \"\", regex=False)\n",
    "    .str.replace(\",\", \"\", regex=False)\n",
    "    .astype(int)\n",
    ")\n",
    "\n",
    "# Number of deals \n",
    "N = 5  \n",
    "\n",
    "# Get top N cheapest deals\n",
    "best_deals = df.sort_values('price_clean', ascending=True).head(N)\n",
    "\n",
    "\n",
    "print(f\"Top {N} Best Deals (Lowest Prices):\")\n",
    "print(best_deals[['title', 'seller_name', 'price_clean']])\n"
   ]
  },
  {
   "cell_type": "code",
   "execution_count": null,
   "id": "916e59e7-01ba-4257-b03e-aa7b267799d5",
   "metadata": {},
   "outputs": [],
   "source": []
  }
 ],
 "metadata": {
  "kernelspec": {
   "display_name": "Python 3 (ipykernel)",
   "language": "python",
   "name": "python3"
  },
  "language_info": {
   "codemirror_mode": {
    "name": "ipython",
    "version": 3
   },
   "file_extension": ".py",
   "mimetype": "text/x-python",
   "name": "python",
   "nbconvert_exporter": "python",
   "pygments_lexer": "ipython3",
   "version": "3.13.7"
  }
 },
 "nbformat": 4,
 "nbformat_minor": 5
}
