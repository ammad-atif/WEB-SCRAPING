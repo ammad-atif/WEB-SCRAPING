{
 "cells": [
  {
   "cell_type": "code",
   "execution_count": 1,
   "id": "48a5ff18-1b67-42e9-835b-cdf72b39ae12",
   "metadata": {},
   "outputs": [
    {
     "name": "stdout",
     "output_type": "stream",
     "text": [
      "200\n"
     ]
    }
   ],
   "source": [
    "import requests\n",
    "from bs4 import BeautifulSoup\n",
    "\n",
    "\n",
    "URL=\"https://www.dawn.com/latest-news\"\n",
    "\n",
    "html=requests.get(URL)\n",
    "\n",
    "print(html.status_code)"
   ]
  },
  {
   "cell_type": "code",
   "execution_count": 2,
   "id": "a006558f-761d-45b8-ac3d-22ceada3d2b0",
   "metadata": {},
   "outputs": [
    {
     "name": "stdout",
     "output_type": "stream",
     "text": [
      "<!DOCTYPE html>\n",
      "<html lang=\"en\">\n",
      "\n",
      "<head>\n",
      "        \n",
      "    <!-- meta -->\n",
      "    <meta charset=\"utf-8\">\n",
      "    <meta name=\"viewport\" content=\"width=device-width,minimum-scale=1,initial-scale=1\">\n",
      "    <!--[if IE]> <meta http-equiv=\"X-UA-Compatible\" content=\"IE=edge\" /> <![endif]-->\n",
      "    <title>Latest - DAWN.COM</title> \n",
      "     <meta name='subject' content='Your window to latest news, analysis and features from Pakistan, South Asia and the world.' /> \n",
      "     <meta name='description' content='Pakistan&rsquo;s most t\n"
     ]
    }
   ],
   "source": [
    "print(html.text[:500])"
   ]
  },
  {
   "cell_type": "code",
   "execution_count": 3,
   "id": "6b35c9ee-4bb6-4bf2-b1f2-3c1010c854d2",
   "metadata": {},
   "outputs": [
    {
     "name": "stdout",
     "output_type": "stream",
     "text": [
      "<!DOCTYPE html>\n",
      "<html lang=\"en\">\n",
      " <head>\n",
      "  <!-- meta -->\n",
      "  <meta charset=\"utf-8\"/>\n",
      "  <meta content=\"width=device-width,minimum-scale=1,initial-scale=1\" name=\"viewport\"/>\n",
      "  <!--[if IE]> <meta http-equiv=\"X-UA-Compatible\" content=\"IE=edge\" /> <![endif]-->\n",
      "  <title>\n",
      "   Latest - DAWN.COM\n",
      "  </title>\n",
      "  <meta content=\"Your window to latest news, analysis and features from Pakistan, South Asia and the world.\" name=\"subject\">\n",
      "   <meta content=\"Pakistan’s most trusted outlet for the breaking, latest and t\n"
     ]
    }
   ],
   "source": [
    "parsed_html=BeautifulSoup(html.text,features=\"html.parser\")\n",
    "\n",
    "print(parsed_html.prettify()[:500])"
   ]
  },
  {
   "cell_type": "code",
   "execution_count": 4,
   "id": "bcd909bf-3ccc-4d5f-bfa9-a11bbdf6d975",
   "metadata": {},
   "outputs": [],
   "source": [
    "body=parsed_html.find(\"body\")\n",
    "articles=body.find_all(\"article\")\n"
   ]
  },
  {
   "cell_type": "code",
   "execution_count": 5,
   "id": "a67001f2-3c94-47d4-a78a-d7db2875124c",
   "metadata": {},
   "outputs": [
    {
     "name": "stdout",
     "output_type": "stream",
     "text": [
      "247\n"
     ]
    }
   ],
   "source": [
    "print(len(articles))"
   ]
  },
  {
   "cell_type": "code",
   "execution_count": 6,
   "id": "f8b878ee-b871-48a1-b1ca-9a744b625171",
   "metadata": {},
   "outputs": [],
   "source": [
    "#to check if it handles fewer then 10 \n",
    "#articles=articles[:9]"
   ]
  },
  {
   "cell_type": "code",
   "execution_count": 7,
   "id": "bb055c0a-4990-48b3-b72d-7963c515ffd8",
   "metadata": {},
   "outputs": [
    {
     "name": "stdout",
     "output_type": "stream",
     "text": [
      "30\n"
     ]
    }
   ],
   "source": [
    "top_30_articles=articles[0:30]\n",
    "print(len(top_30_articles))\n",
    "        \n",
    "   "
   ]
  },
  {
   "cell_type": "code",
   "execution_count": 8,
   "id": "b0220911-9700-4e4b-83d0-d1073b467fee",
   "metadata": {},
   "outputs": [],
   "source": [
    "import pandas as pd"
   ]
  },
  {
   "cell_type": "code",
   "execution_count": 9,
   "id": "2012a119-6599-43b9-b1e0-57c4a3ac2844",
   "metadata": {},
   "outputs": [],
   "source": [
    "data=[]\n",
    "for article in top_30_articles:\n",
    "    d=[]\n",
    "    \n",
    "    headline_tag=article.find(\"h2\")\n",
    "    if headline_tag:\n",
    "        #if no text available then?\n",
    "        d.append(headline_tag.text)\n",
    "    else:\n",
    "        d.append(\"No headline available\")\n",
    "\n",
    "    url=article.find(\"a\")\n",
    "    if url:\n",
    "         d.append(url[\"href\"])\n",
    "    else:\n",
    "        d.append(\"No URL available\")\n",
    "\n",
    "    data.append(d)\n",
    "    "
   ]
  },
  {
   "cell_type": "code",
   "execution_count": 10,
   "id": "dfdd010c-ab14-4203-b9c5-0af3286bb23e",
   "metadata": {},
   "outputs": [
    {
     "name": "stdout",
     "output_type": "stream",
     "text": [
      "                                            headline  \\\n",
      "0  What’s next for Nepal after ‘Gen Z’ protests f...   \n",
      "1  LHC summons NAB chairman in contempt of court ...   \n",
      "2  ‘The river is flowing like a river’: Karachi m...   \n",
      "3  Pakistan joins global dialogue at US Soybean E...   \n",
      "4  ‘Inspire greatness’: TCL showcases latest disp...   \n",
      "\n",
      "                                                 url  \n",
      "0  https://www.dawn.com/news/1940972/whats-next-f...  \n",
      "1  https://www.dawn.com/news/1940964/lhc-summons-...  \n",
      "2  https://images.dawn.com/news/1194128/the-river...  \n",
      "3  https://www.dawn.com/news/1940464/pakistan-joi...  \n",
      "4  https://www.dawn.com/news/1939949/inspire-grea...  \n"
     ]
    }
   ],
   "source": [
    "df=pd.DataFrame(data,columns=[\"headline\",\"url\"])\n",
    "print(df.head(5))"
   ]
  },
  {
   "cell_type": "code",
   "execution_count": 12,
   "id": "7954e2fd-1830-4dfb-984d-5844dea51303",
   "metadata": {},
   "outputs": [],
   "source": [
    "df.to_csv(\"dawn_headlines.csv\",index=False)"
   ]
  },
  {
   "cell_type": "code",
   "execution_count": 2,
   "id": "3cdc12b3-451b-406d-9904-0bd49a616140",
   "metadata": {},
   "outputs": [
    {
     "data": {
      "text/html": [
       "<div>\n",
       "<style scoped>\n",
       "    .dataframe tbody tr th:only-of-type {\n",
       "        vertical-align: middle;\n",
       "    }\n",
       "\n",
       "    .dataframe tbody tr th {\n",
       "        vertical-align: top;\n",
       "    }\n",
       "\n",
       "    .dataframe thead th {\n",
       "        text-align: right;\n",
       "    }\n",
       "</style>\n",
       "<table border=\"1\" class=\"dataframe\">\n",
       "  <thead>\n",
       "    <tr style=\"text-align: right;\">\n",
       "      <th></th>\n",
       "      <th>headline</th>\n",
       "      <th>url</th>\n",
       "    </tr>\n",
       "  </thead>\n",
       "  <tbody>\n",
       "    <tr>\n",
       "      <th>0</th>\n",
       "      <td>What’s next for Nepal after ‘Gen Z’ protests f...</td>\n",
       "      <td>https://www.dawn.com/news/1940972/whats-next-f...</td>\n",
       "    </tr>\n",
       "    <tr>\n",
       "      <th>1</th>\n",
       "      <td>LHC summons NAB chairman in contempt of court ...</td>\n",
       "      <td>https://www.dawn.com/news/1940964/lhc-summons-...</td>\n",
       "    </tr>\n",
       "    <tr>\n",
       "      <th>2</th>\n",
       "      <td>‘The river is flowing like a river’: Karachi m...</td>\n",
       "      <td>https://images.dawn.com/news/1194128/the-river...</td>\n",
       "    </tr>\n",
       "    <tr>\n",
       "      <th>3</th>\n",
       "      <td>Pakistan joins global dialogue at US Soybean E...</td>\n",
       "      <td>https://www.dawn.com/news/1940464/pakistan-joi...</td>\n",
       "    </tr>\n",
       "    <tr>\n",
       "      <th>4</th>\n",
       "      <td>‘Inspire greatness’: TCL showcases latest disp...</td>\n",
       "      <td>https://www.dawn.com/news/1939949/inspire-grea...</td>\n",
       "    </tr>\n",
       "  </tbody>\n",
       "</table>\n",
       "</div>"
      ],
      "text/plain": [
       "                                            headline                                                url\n",
       "0  What’s next for Nepal after ‘Gen Z’ protests f...  https://www.dawn.com/news/1940972/whats-next-f...\n",
       "1  LHC summons NAB chairman in contempt of court ...  https://www.dawn.com/news/1940964/lhc-summons-...\n",
       "2  ‘The river is flowing like a river’: Karachi m...  https://images.dawn.com/news/1194128/the-river...\n",
       "3  Pakistan joins global dialogue at US Soybean E...  https://www.dawn.com/news/1940464/pakistan-joi...\n",
       "4  ‘Inspire greatness’: TCL showcases latest disp...  https://www.dawn.com/news/1939949/inspire-grea..."
      ]
     },
     "execution_count": 2,
     "metadata": {},
     "output_type": "execute_result"
    }
   ],
   "source": [
    "import pandas as pd\n",
    "\n",
    "df=pd.read_csv(\"dawn_headlines.csv\")\n",
    "\n",
    "df.head()"
   ]
  }
 ],
 "metadata": {
  "kernelspec": {
   "display_name": "Python 3 (ipykernel)",
   "language": "python",
   "name": "python3"
  },
  "language_info": {
   "codemirror_mode": {
    "name": "ipython",
    "version": 3
   },
   "file_extension": ".py",
   "mimetype": "text/x-python",
   "name": "python",
   "nbconvert_exporter": "python",
   "pygments_lexer": "ipython3",
   "version": "3.13.7"
  }
 },
 "nbformat": 4,
 "nbformat_minor": 5
}
