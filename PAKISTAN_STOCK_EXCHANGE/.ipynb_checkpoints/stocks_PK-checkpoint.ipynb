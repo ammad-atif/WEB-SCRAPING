{
 "cells": [
  {
   "cell_type": "code",
   "execution_count": 11,
   "id": "28aa8e02-4edd-41de-a507-4576438bb2f5",
   "metadata": {},
   "outputs": [],
   "source": [
    "import requests\n",
    "from bs4 import BeautifulSoup"
   ]
  },
  {
   "cell_type": "code",
   "execution_count": 12,
   "id": "2310a243-052f-4f3f-a88b-19b07ae5a0be",
   "metadata": {},
   "outputs": [
    {
     "name": "stdout",
     "output_type": "stream",
     "text": [
      "200\n"
     ]
    }
   ],
   "source": [
    "URL=\"https://www.psx.com.pk/market-summary/\"\n",
    "\n",
    "html=requests.get(URL)\n",
    "\n",
    "print(html.status_code)"
   ]
  },
  {
   "cell_type": "code",
   "execution_count": 13,
   "id": "a6182694-9639-4ce0-a47d-02fa3cb793a9",
   "metadata": {},
   "outputs": [
    {
     "name": "stdout",
     "output_type": "stream",
     "text": [
      "<!DOCTYPE html>\n",
      "<html>\n",
      " <head>\n",
      "  <meta charset=\"utf-8\"/>\n",
      "  <meta content=\"IE=edge\" http-equiv=\"X-UA-Compatible\"/>\n",
      "  <meta content=\"width=device-width, initial-scale=1\" name=\"viewport\"/>\n",
      "  <title>\n",
      "   Pakistan Stock Exchange Limited - | Psx | Market Summary\n",
      "  </title>\n",
      "  <meta content=\"PSX provides a reliable, orderly, liquid and efficient digitized market place where investors can buy and sell listed companies’ common stocks and other securities. For over 60 years, the Exchange has facilitated cap\n"
     ]
    }
   ],
   "source": [
    "parsed_html=BeautifulSoup(html.text,features=\"html.parser\")\n",
    "\n",
    "print(parsed_html.prettify()[:500])"
   ]
  },
  {
   "cell_type": "code",
   "execution_count": 32,
   "id": "7e27ef45-6774-43da-9cd2-ea1f9c9d0e3d",
   "metadata": {},
   "outputs": [],
   "source": [
    "tables_html=parsed_html.find(\"div\",attrs={\"class\":\"tab-content\"})"
   ]
  },
  {
   "cell_type": "code",
   "execution_count": 35,
   "id": "2dccb231-4358-412e-a953-5e528ca4e8bc",
   "metadata": {},
   "outputs": [
    {
     "name": "stdout",
     "output_type": "stream",
     "text": [
      "43\n"
     ]
    }
   ],
   "source": [
    "tables=tables_html.find_all(\"div\",attrs={\"class\":\"table-responsive\"})\n",
    "print(len(tables))"
   ]
  },
  {
   "cell_type": "code",
   "execution_count": 69,
   "id": "642d5254-abcb-436b-a49d-623f6f59aaf9",
   "metadata": {},
   "outputs": [
    {
     "name": "stdout",
     "output_type": "stream",
     "text": [
      "[<tr>\n",
      "<td>SCRIP</td>\n",
      "<td>LDCP</td>\n",
      "<td>OPEN</td>\n",
      "<td>HIGH</td>\n",
      "<td>LOW</td>\n",
      "<td>CURRENT</td>\n",
      "<td>CHANGE</td>\n",
      "<td>VOLUME</td>\n",
      "</tr>]\n"
     ]
    }
   ],
   "source": [
    "print(tables[2].find_all(\"tr\")[1:2])"
   ]
  },
  {
   "cell_type": "code",
   "execution_count": 67,
   "id": "8420e6b1-874e-43bb-ae44-27f6e8f8f777",
   "metadata": {},
   "outputs": [],
   "source": [
    "\n",
    "rows=[]\n",
    "#repeat for each table from all tables\n",
    "for table in tables:\n",
    "    #this would contain all table_rows for a table \n",
    "    table_rows=table.find_all(\"tr\")\n",
    "    #filter out the excessive rows\n",
    "    table_rows=table_rows[2:]\n",
    "    #repeat for each row out of all rows\n",
    "    for table_row in table_rows:\n",
    "        #print(table_row.text.strip().split(\"\\n\"))\n",
    "        rows.append(table_row.text.strip().split(\"\\n\"))\n",
    "    \n",
    "    "
   ]
  },
  {
   "cell_type": "code",
   "execution_count": 68,
   "id": "c30819ef-5d4f-4e5b-9f9f-8a3834f14323",
   "metadata": {},
   "outputs": [
    {
     "name": "stdout",
     "output_type": "stream",
     "text": [
      "589\n"
     ]
    }
   ],
   "source": [
    "print(len(rows))\n"
   ]
  },
  {
   "cell_type": "code",
   "execution_count": 70,
   "id": "3109dcb9-c2a9-4ea3-b2e0-f36ecb118d04",
   "metadata": {},
   "outputs": [
    {
     "name": "stdout",
     "output_type": "stream",
     "text": [
      "                    SCRIP      LDCP    OPEN    HIGH     LOW CURRENT   CHANGE     VOLUME\n",
      "0       AL-Ghazi Tractors    391.62   390.0  394.88   390.0   393.3     2.13      9,593\n",
      "1         Atlas Honda Ltd  1,229.99  1230.0  1237.0  1201.0  1221.0    -8.81     12,190\n",
      "2            Dewan Motors     34.55   34.55   35.85   34.27   35.23     0.61  6,900,298\n",
      "3    Ghandhara Automobile    578.71   577.5  589.89   575.0  578.89    -0.23    789,716\n",
      "4          Ghandhara Ind.    802.91   797.0   820.0   796.5   804.0     1.19    453,957\n",
      "..                    ...       ...     ...     ...     ...     ...      ...        ...\n",
      "584         Pak Agro Pack     14.50   14.26   14.75   14.26   14.75     0.25      3,500\n",
      "585     Mughal Energy Ltd     25.32    27.0    27.0    22.8    23.0                 266\n",
      "586    Nets International     42.71    45.0    45.0    45.0    45.0                  45\n",
      "587       Supernet Ltd.XB     39.00   40.98   40.98   37.15   39.97    -0.98    119,160\n",
      "588               Blue-Ex     65.86   60.05    70.0   59.27    70.0     1.39      8,143\n",
      "\n",
      "[589 rows x 8 columns]\n"
     ]
    }
   ],
   "source": [
    "import pandas as pd\n",
    "\n",
    "df=pd.DataFrame(rows,columns=[\"SCRIP\",\n",
    "\"LDCP\",\n",
    "\"OPEN\",\n",
    "\"HIGH\",\n",
    "\"LOW\",\n",
    "\"CURRENT\",\n",
    "\"CHANGE\",\n",
    "\"VOLUME\"])\n",
    "\n",
    "print(df)"
   ]
  },
  {
   "cell_type": "code",
   "execution_count": 72,
   "id": "6b8dc92b-225a-45c5-b7b3-27f2d531d6c3",
   "metadata": {},
   "outputs": [],
   "source": [
    "df.to_csv(\"stocks_PK.csv\",index=False)"
   ]
  },
  {
   "cell_type": "code",
   "execution_count": 1,
   "id": "2aeae099-18a9-492f-befd-2c076514af69",
   "metadata": {},
   "outputs": [
    {
     "data": {
      "text/html": [
       "<div>\n",
       "<style scoped>\n",
       "    .dataframe tbody tr th:only-of-type {\n",
       "        vertical-align: middle;\n",
       "    }\n",
       "\n",
       "    .dataframe tbody tr th {\n",
       "        vertical-align: top;\n",
       "    }\n",
       "\n",
       "    .dataframe thead th {\n",
       "        text-align: right;\n",
       "    }\n",
       "</style>\n",
       "<table border=\"1\" class=\"dataframe\">\n",
       "  <thead>\n",
       "    <tr style=\"text-align: right;\">\n",
       "      <th></th>\n",
       "      <th>SCRIP</th>\n",
       "      <th>LDCP</th>\n",
       "      <th>OPEN</th>\n",
       "      <th>HIGH</th>\n",
       "      <th>LOW</th>\n",
       "      <th>CURRENT</th>\n",
       "      <th>CHANGE</th>\n",
       "      <th>VOLUME</th>\n",
       "    </tr>\n",
       "  </thead>\n",
       "  <tbody>\n",
       "    <tr>\n",
       "      <th>0</th>\n",
       "      <td>AL-Ghazi Tractors</td>\n",
       "      <td>391.62</td>\n",
       "      <td>390.00</td>\n",
       "      <td>394.88</td>\n",
       "      <td>390.00</td>\n",
       "      <td>393.30</td>\n",
       "      <td>2.13</td>\n",
       "      <td>9,593</td>\n",
       "    </tr>\n",
       "    <tr>\n",
       "      <th>1</th>\n",
       "      <td>Atlas Honda Ltd</td>\n",
       "      <td>1,229.99</td>\n",
       "      <td>1230.00</td>\n",
       "      <td>1237.00</td>\n",
       "      <td>1201.00</td>\n",
       "      <td>1221.00</td>\n",
       "      <td>-8.81</td>\n",
       "      <td>12,190</td>\n",
       "    </tr>\n",
       "    <tr>\n",
       "      <th>2</th>\n",
       "      <td>Dewan Motors</td>\n",
       "      <td>34.55</td>\n",
       "      <td>34.55</td>\n",
       "      <td>35.85</td>\n",
       "      <td>34.27</td>\n",
       "      <td>35.23</td>\n",
       "      <td>0.61</td>\n",
       "      <td>6,900,298</td>\n",
       "    </tr>\n",
       "    <tr>\n",
       "      <th>3</th>\n",
       "      <td>Ghandhara Automobile</td>\n",
       "      <td>578.71</td>\n",
       "      <td>577.50</td>\n",
       "      <td>589.89</td>\n",
       "      <td>575.00</td>\n",
       "      <td>578.89</td>\n",
       "      <td>-0.23</td>\n",
       "      <td>789,716</td>\n",
       "    </tr>\n",
       "    <tr>\n",
       "      <th>4</th>\n",
       "      <td>Ghandhara Ind.</td>\n",
       "      <td>802.91</td>\n",
       "      <td>797.00</td>\n",
       "      <td>820.00</td>\n",
       "      <td>796.50</td>\n",
       "      <td>804.00</td>\n",
       "      <td>1.19</td>\n",
       "      <td>453,957</td>\n",
       "    </tr>\n",
       "  </tbody>\n",
       "</table>\n",
       "</div>"
      ],
      "text/plain": [
       "                  SCRIP      LDCP     OPEN     HIGH      LOW  CURRENT   CHANGE     VOLUME\n",
       "0     AL-Ghazi Tractors    391.62   390.00   394.88   390.00   393.30     2.13      9,593\n",
       "1       Atlas Honda Ltd  1,229.99  1230.00  1237.00  1201.00  1221.00    -8.81     12,190\n",
       "2          Dewan Motors     34.55    34.55    35.85    34.27    35.23     0.61  6,900,298\n",
       "3  Ghandhara Automobile    578.71   577.50   589.89   575.00   578.89    -0.23    789,716\n",
       "4        Ghandhara Ind.    802.91   797.00   820.00   796.50   804.00     1.19    453,957"
      ]
     },
     "execution_count": 1,
     "metadata": {},
     "output_type": "execute_result"
    }
   ],
   "source": [
    "import pandas as pd\n",
    "\n",
    "df=pd.read_csv(\"stocks_PK.csv\")\n",
    "\n",
    "df.head()"
   ]
  }
 ],
 "metadata": {
  "kernelspec": {
   "display_name": "Python 3 (ipykernel)",
   "language": "python",
   "name": "python3"
  },
  "language_info": {
   "codemirror_mode": {
    "name": "ipython",
    "version": 3
   },
   "file_extension": ".py",
   "mimetype": "text/x-python",
   "name": "python",
   "nbconvert_exporter": "python",
   "pygments_lexer": "ipython3",
   "version": "3.13.7"
  }
 },
 "nbformat": 4,
 "nbformat_minor": 5
}
