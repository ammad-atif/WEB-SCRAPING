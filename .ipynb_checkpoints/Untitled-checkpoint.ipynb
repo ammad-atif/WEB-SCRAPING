{
 "cells": [
  {
   "cell_type": "code",
   "execution_count": 11,
   "id": "28aa8e02-4edd-41de-a507-4576438bb2f5",
   "metadata": {},
   "outputs": [],
   "source": [
    "import requests\n",
    "from bs4 import BeautifulSoup"
   ]
  },
  {
   "cell_type": "code",
   "execution_count": 12,
   "id": "2310a243-052f-4f3f-a88b-19b07ae5a0be",
   "metadata": {},
   "outputs": [
    {
     "name": "stdout",
     "output_type": "stream",
     "text": [
      "200\n"
     ]
    }
   ],
   "source": [
    "URL=\"https://www.psx.com.pk/market-summary/\"\n",
    "\n",
    "html=requests.get(URL)\n",
    "\n",
    "print(html.status_code)"
   ]
  },
  {
   "cell_type": "code",
   "execution_count": 13,
   "id": "a6182694-9639-4ce0-a47d-02fa3cb793a9",
   "metadata": {},
   "outputs": [
    {
     "name": "stdout",
     "output_type": "stream",
     "text": [
      "<!DOCTYPE html>\n",
      "<html>\n",
      " <head>\n",
      "  <meta charset=\"utf-8\"/>\n",
      "  <meta content=\"IE=edge\" http-equiv=\"X-UA-Compatible\"/>\n",
      "  <meta content=\"width=device-width, initial-scale=1\" name=\"viewport\"/>\n",
      "  <title>\n",
      "   Pakistan Stock Exchange Limited - | Psx | Market Summary\n",
      "  </title>\n",
      "  <meta content=\"PSX provides a reliable, orderly, liquid and efficient digitized market place where investors can buy and sell listed companies’ common stocks and other securities. For over 60 years, the Exchange has facilitated cap\n"
     ]
    }
   ],
   "source": [
    "parsed_html=BeautifulSoup(html.text,features=\"html.parser\")\n",
    "\n",
    "print(parsed_html.prettify()[:500])"
   ]
  },
  {
   "cell_type": "code",
   "execution_count": 32,
   "id": "7e27ef45-6774-43da-9cd2-ea1f9c9d0e3d",
   "metadata": {},
   "outputs": [],
   "source": [
    "tables_html=parsed_html.find(\"div\",attrs={\"class\":\"tab-content\"})"
   ]
  },
  {
   "cell_type": "code",
   "execution_count": 35,
   "id": "2dccb231-4358-412e-a953-5e528ca4e8bc",
   "metadata": {},
   "outputs": [
    {
     "name": "stdout",
     "output_type": "stream",
     "text": [
      "43\n"
     ]
    }
   ],
   "source": [
    "tables=tables_html.find_all(\"div\",attrs={\"class\":\"table-responsive\"})\n",
    "print(len(tables))"
   ]
  },
  {
   "cell_type": "code",
   "execution_count": 66,
   "id": "642d5254-abcb-436b-a49d-623f6f59aaf9",
   "metadata": {},
   "outputs": [],
   "source": [
    "#rint(tables[2].find_all(\"tr\")[2:])"
   ]
  },
  {
   "cell_type": "code",
   "execution_count": 67,
   "id": "8420e6b1-874e-43bb-ae44-27f6e8f8f777",
   "metadata": {},
   "outputs": [],
   "source": [
    "\n",
    "rows=[]\n",
    "#repeat for each table from all tables\n",
    "for table in tables:\n",
    "    #this would contain all table_rows for a table \n",
    "    table_rows=table.find_all(\"tr\")\n",
    "    #filter out the excessive rows\n",
    "    table_rows=table_rows[2:]\n",
    "    #repeat for each row out of all rows\n",
    "    for table_row in table_rows:\n",
    "        #print(table_row.text.strip().split(\"\\n\"))\n",
    "        rows.append(table_row.text.strip().split(\"\\n\"))\n",
    "    \n",
    "    "
   ]
  },
  {
   "cell_type": "code",
   "execution_count": 68,
   "id": "c30819ef-5d4f-4e5b-9f9f-8a3834f14323",
   "metadata": {},
   "outputs": [
    {
     "name": "stdout",
     "output_type": "stream",
     "text": [
      "589\n"
     ]
    }
   ],
   "source": [
    "print(len(rows))"
   ]
  },
  {
   "cell_type": "code",
   "execution_count": null,
   "id": "3109dcb9-c2a9-4ea3-b2e0-f36ecb118d04",
   "metadata": {},
   "outputs": [],
   "source": [
    "import pandas as pd\n",
    "\n",
    "df=pd"
   ]
  }
 ],
 "metadata": {
  "kernelspec": {
   "display_name": "Python 3 (ipykernel)",
   "language": "python",
   "name": "python3"
  },
  "language_info": {
   "codemirror_mode": {
    "name": "ipython",
    "version": 3
   },
   "file_extension": ".py",
   "mimetype": "text/x-python",
   "name": "python",
   "nbconvert_exporter": "python",
   "pygments_lexer": "ipython3",
   "version": "3.13.7"
  }
 },
 "nbformat": 4,
 "nbformat_minor": 5
}
